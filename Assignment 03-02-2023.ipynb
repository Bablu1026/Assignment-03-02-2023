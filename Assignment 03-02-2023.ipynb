{
 "cells": [
  {
   "cell_type": "code",
   "execution_count": 8,
   "id": "2bcc1fd1-ebe3-45c3-8a91-b76ef7a26b3a",
   "metadata": {},
   "outputs": [
    {
     "data": {
      "text/plain": [
       "'The \"def\" keyword is used to create a function'"
      ]
     },
     "execution_count": 8,
     "metadata": {},
     "output_type": "execute_result"
    }
   ],
   "source": [
    "# Q:1\n",
    "'''The \"def\" keyword is used to create a function'''\n",
    "def get_odd_numbers():\n",
    "    odd_numbers = []\n",
    "    for num in range(1,26):\n",
    "        if num % 2 != 0:\n",
    "            odd_numbers.append(num)\n",
    "    return odd_numbers"
   ]
  },
  {
   "cell_type": "code",
   "execution_count": 17,
   "id": "338a1a19-97d3-41c0-90a6-d3d3f2f64c87",
   "metadata": {},
   "outputs": [
    {
     "name": "stdout",
     "output_type": "stream",
     "text": [
      "15\n",
      "60\n"
     ]
    }
   ],
   "source": [
    "# Q:2\n",
    "'''*args and **kwargs are used in functions to allow them to accept a variable number of arguments.\n",
    "*args is used to pass a variable number of non-keyword arguments to a function, \n",
    "while **kwargs is used to pass a variable number of keyword arguments.'''\n",
    "\n",
    "# *args\n",
    "def sum_numbers(*args):\n",
    "    result = 0\n",
    "    for num in args:\n",
    "        result += num\n",
    "    return result\n",
    "print(sum_numbers(1, 2, 3, 4, 5))  \n",
    "print(sum_numbers(10, 20, 30)) \n"
   ]
  },
  {
   "cell_type": "code",
   "execution_count": 18,
   "id": "16322388-1815-4999-8d42-0a72352f4b21",
   "metadata": {},
   "outputs": [
    {
     "name": "stdout",
     "output_type": "stream",
     "text": [
      "Name: Pawan singh\n",
      "Age: 30\n",
      "Email: singhpawan999@orkut.com\n"
     ]
    }
   ],
   "source": [
    "# **kwargs\n",
    "def user_details(**kwargs):\n",
    "    for key, value in kwargs.items():\n",
    "        print(f\"{key.capitalize()}: {value}\")\n",
    "\n",
    "user_details(name=\"Pawan singh\", age=30, email=\"singhpawan999@orkut.com\")\n"
   ]
  },
  {
   "cell_type": "code",
   "execution_count": 1,
   "id": "098b81f6-bc40-4734-afe3-7d15564fca31",
   "metadata": {},
   "outputs": [
    {
     "name": "stdout",
     "output_type": "stream",
     "text": [
      "2\n",
      "4\n",
      "6\n",
      "8\n",
      "10\n"
     ]
    }
   ],
   "source": [
    "# Q:3\n",
    "'''An iterator is an object that allows you to traverse through a collection of elements one at a time. \n",
    "It is implemented as a class, and the class must define two methods: __iter__() and __next__().'''\n",
    "my_list = [2, 4, 6, 8, 10, 12, 14, 16, 18, 20]\n",
    "my_iter = iter(my_list)\n",
    "print(next(my_iter))\n",
    "print(next(my_iter))\n",
    "print(next(my_iter))\n",
    "print(next(my_iter))\n",
    "print(next(my_iter))\n",
    "\n"
   ]
  },
  {
   "cell_type": "code",
   "execution_count": 5,
   "id": "35749e66-e26a-464b-b2ba-7cb33f98cfa8",
   "metadata": {},
   "outputs": [],
   "source": [
    "# Q:4\n",
    "'''A generator function in Python is a special type of function that returns an iterator which can be used to generate a sequence of values on the fly, \n",
    "without the need to generate and store them all in memory at once.'''\n",
    "\n",
    "'''The yield keyword is used in generator functions to define where the generator should pause and return a value. \n",
    "When the next value is requested, the generator resumes where it left off, and continues executing until the next yield statement is encountered.'''\n",
    "\n",
    "# an example of a generator function that generates the sequence of Fibonacci numbers\n",
    "def fibonacci():\n",
    "    a, b = 0, 1\n",
    "    while True:\n",
    "        yield a\n",
    "        a, b = b, a + b"
   ]
  },
  {
   "cell_type": "code",
   "execution_count": 6,
   "id": "b626d50d-eb67-4ea8-bfe8-5a9415741ea9",
   "metadata": {},
   "outputs": [
    {
     "name": "stdout",
     "output_type": "stream",
     "text": [
      "0\n",
      "1\n",
      "1\n",
      "2\n",
      "3\n",
      "5\n",
      "8\n",
      "13\n",
      "21\n",
      "34\n"
     ]
    }
   ],
   "source": [
    " fib = fibonacci()\n",
    "for i in range(10):\n",
    "    print(next(fib))\n",
    "    "
   ]
  },
  {
   "cell_type": "code",
   "execution_count": 11,
   "id": "b64c7bd2-e9cf-4a36-a1aa-a2f440ec3f12",
   "metadata": {},
   "outputs": [],
   "source": [
    "# Q:5\n",
    "def primes():\n",
    "    yield 2\n",
    "    yield 3\n",
    "    yield 5\n",
    "    yield 7\n",
    "    num = 11\n",
    "    while num < 1000:\n",
    "        if all(num % i != 0 for i in range(2, int(num ** 0.5) + 1)):\n",
    "            yield num\n",
    "        num += 2\n"
   ]
  },
  {
   "cell_type": "code",
   "execution_count": 8,
   "id": "cbaae4f0-e492-40da-80af-cff63fed25dd",
   "metadata": {},
   "outputs": [
    {
     "name": "stdout",
     "output_type": "stream",
     "text": [
      "2\n",
      "3\n",
      "5\n",
      "7\n",
      "11\n",
      "13\n",
      "17\n",
      "19\n",
      "23\n",
      "29\n",
      "31\n",
      "37\n",
      "41\n",
      "43\n",
      "47\n",
      "53\n",
      "59\n",
      "61\n",
      "67\n",
      "71\n"
     ]
    }
   ],
   "source": [
    "prime_gen = primes()\n",
    "for i in range(20):\n",
    "    print(next(prime_gen))\n"
   ]
  },
  {
   "cell_type": "code",
   "execution_count": 12,
   "id": "a912d52f-074a-41a3-be3b-f06b93f29fe0",
   "metadata": {},
   "outputs": [
    {
     "name": "stdout",
     "output_type": "stream",
     "text": [
      "0\n",
      "1\n",
      "1\n",
      "2\n",
      "3\n",
      "5\n",
      "8\n",
      "13\n",
      "21\n",
      "34\n"
     ]
    }
   ],
   "source": [
    "# Q:6\n",
    "a, b = 0, 1\n",
    "count = 0\n",
    "while count < 10:\n",
    "    print(a)\n",
    "    a, b = b, a + b\n",
    "    count += 1\n"
   ]
  },
  {
   "cell_type": "code",
   "execution_count": 13,
   "id": "2e1644b2-4357-4039-811a-be4a805b3c43",
   "metadata": {},
   "outputs": [
    {
     "name": "stdout",
     "output_type": "stream",
     "text": [
      "['p', 'w', 's', 'k', 'i', 'l', 'l', 's']\n"
     ]
    }
   ],
   "source": [
    "# Q:7\n",
    "string = 'pwskills'\n",
    "result = [char for char in string if char in 'pwskills']\n",
    "print(result)\n"
   ]
  },
  {
   "cell_type": "code",
   "execution_count": 16,
   "id": "9295bb7a-dfa3-49d3-b4de-ad699947a574",
   "metadata": {},
   "outputs": [
    {
     "name": "stdin",
     "output_type": "stream",
     "text": [
      "Enter a number:  66\n"
     ]
    },
    {
     "name": "stdout",
     "output_type": "stream",
     "text": [
      "66 is a palindrome number\n"
     ]
    }
   ],
   "source": [
    "# Q:8\n",
    "num = int(input(\"Enter a number: \"))\n",
    "temp = num\n",
    "reverse = 0\n",
    "\n",
    "while temp > 0:\n",
    "    remainder = temp % 10\n",
    "    reverse = (reverse * 10) + remainder\n",
    "    temp = temp // 10\n",
    "\n",
    "if num == reverse:\n",
    "    print(num, \"is a palindrome number\")\n",
    "else:\n",
    "    print(num, \"is not a palindrome number\")\n"
   ]
  },
  {
   "cell_type": "code",
   "execution_count": 17,
   "id": "b54285bf-0b07-4c45-86cb-607617539d54",
   "metadata": {},
   "outputs": [
    {
     "name": "stdout",
     "output_type": "stream",
     "text": [
      "[1, 3, 5, 7, 9, 11, 13, 15, 17, 19, 21, 23, 25, 27, 29, 31, 33, 35, 37, 39, 41, 43, 45, 47, 49, 51, 53, 55, 57, 59, 61, 63, 65, 67, 69, 71, 73, 75, 77, 79, 81, 83, 85, 87, 89, 91, 93, 95, 97, 99]\n"
     ]
    }
   ],
   "source": [
    "# Q:9\n",
    "odd_numbers = [num for num in range(1, 101) if num % 2 != 0]\n",
    "print(odd_numbers)\n"
   ]
  },
  {
   "cell_type": "code",
   "execution_count": null,
   "id": "6ed4364d-2461-468c-9c49-34ceaddb4566",
   "metadata": {},
   "outputs": [],
   "source": []
  }
 ],
 "metadata": {
  "kernelspec": {
   "display_name": "Python 3 (ipykernel)",
   "language": "python",
   "name": "python3"
  },
  "language_info": {
   "codemirror_mode": {
    "name": "ipython",
    "version": 3
   },
   "file_extension": ".py",
   "mimetype": "text/x-python",
   "name": "python",
   "nbconvert_exporter": "python",
   "pygments_lexer": "ipython3",
   "version": "3.10.8"
  }
 },
 "nbformat": 4,
 "nbformat_minor": 5
}
